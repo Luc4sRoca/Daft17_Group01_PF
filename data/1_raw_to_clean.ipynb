{
 "cells": [
  {
   "cell_type": "code",
   "execution_count": 1,
   "metadata": {},
   "outputs": [
    {
     "name": "stdout",
     "output_type": "stream",
     "text": [
      "Start: RAW -> CLEAN\n",
      "Wrote common_player_info_clean.csv with shape (4171, 33)\n",
      "Wrote game_clean.csv with shape (65698, 55)\n",
      "Wrote game_summary_clean.csv with shape (58110, 14)\n",
      "Wrote other_stats_clean.csv with shape (28271, 26)\n",
      "Wrote player_clean.csv with shape (4831, 5)\n",
      "Wrote team_clean.csv with shape (30, 7)\n",
      "Completed RAW -> CLEAN in 5.57 seconds\n"
     ]
    }
   ],
   "source": [
    "\n",
    "import os, time, pandas as pd, numpy as np, re\n",
    "\n",
    "def snake_case(name: str) -> str:\n",
    "    name = name.strip()\n",
    "    name = re.sub(r\"[^\\w]+\", \"_\", name)\n",
    "    name = re.sub(r\"([a-z0-9])([A-Z])\", r\"\\1_\\2\", name)\n",
    "    name = re.sub(r\"_+\", \"_\", name)\n",
    "    return name.lower().strip(\"_\")\n",
    "\n",
    "def standardize_columns(df: pd.DataFrame) -> pd.DataFrame:\n",
    "    df = df.copy()\n",
    "    df.columns = [snake_case(c) for c in df.columns]\n",
    "    return df\n",
    "\n",
    "def strip_strings(df: pd.DataFrame) -> pd.DataFrame:\n",
    "    df = df.copy()\n",
    "    for c in df.columns:\n",
    "        if df[c].dtype == \"object\":\n",
    "            df[c] = df[c].astype(str).str.strip().replace({\"\": np.nan, \"None\": np.nan, \"NULL\": np.nan})\n",
    "    return df\n",
    "\n",
    "def infer_types(df: pd.DataFrame) -> pd.DataFrame:\n",
    "    df = df.copy()\n",
    "    for c in df.columns:\n",
    "        lc = c.lower()\n",
    "        if any(k in lc for k in [\"date\", \"dt\", \"fecha\"]):\n",
    "            df[c] = pd.to_datetime(df[c], errors=\"coerce\"); continue\n",
    "        if \"id\" in lc:\n",
    "            df[c] = pd.to_numeric(df[c], errors=\"coerce\").astype(\"Int64\"); continue\n",
    "        if df[c].dtype == \"object\":\n",
    "            num = pd.to_numeric(df[c], errors=\"coerce\")\n",
    "            if num.notna().mean() > 0.6:\n",
    "                df[c] = num\n",
    "    return df\n",
    "\n",
    "def clean_basic(df: pd.DataFrame) -> pd.DataFrame:\n",
    "    df = standardize_columns(df)\n",
    "    df = df.dropna(how=\"all\")\n",
    "    df = strip_strings(df)\n",
    "    df = infer_types(df)\n",
    "    return df\n",
    "\n",
    "start = time.time()\n",
    "print(\"Start: RAW -> CLEAN\")\n",
    "\n",
    "cwd = os.getcwd()\n",
    "raw_files = [f for f in os.listdir(cwd) if f.endswith(\"_raw.csv\")]\n",
    "if not raw_files:\n",
    "    print(\"No _raw.csv files found in current directory.\")\n",
    "else:\n",
    "    for fname in raw_files:\n",
    "        path = os.path.join(cwd, fname)\n",
    "        try:\n",
    "            df = pd.read_csv(path, low_memory=False)\n",
    "        except Exception as e:\n",
    "            print(f\"Error reading {fname}: {e}\")\n",
    "            continue\n",
    "        cleaned = clean_basic(df)\n",
    "        out_name = fname.replace(\"_raw.csv\", \"_clean.csv\")\n",
    "        out_path = os.path.join(cwd, out_name)\n",
    "        cleaned.to_csv(out_path, index=False, encoding=\"utf-8-sig\")\n",
    "        print(f\"Wrote {out_name} with shape {cleaned.shape}\")\n",
    "\n",
    "end = time.time()\n",
    "print(f\"Completed RAW -> CLEAN in {end - start:.2f} seconds\")"
   ]
  }
 ],
 "metadata": {
  "kernelspec": {
   "display_name": "Python 3",
   "language": "python",
   "name": "python3"
  },
  "language_info": {
   "codemirror_mode": {
    "name": "ipython",
    "version": 3
   },
   "file_extension": ".py",
   "mimetype": "text/x-python",
   "name": "python",
   "nbconvert_exporter": "python",
   "pygments_lexer": "ipython3",
   "version": "3.13.7"
  }
 },
 "nbformat": 4,
 "nbformat_minor": 5
}
